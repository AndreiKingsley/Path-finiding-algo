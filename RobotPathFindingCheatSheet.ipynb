{
 "cells": [
  {
   "cell_type": "markdown",
   "metadata": {},
   "source": [
    "# Kак роботы планируют траекторию движения"
   ]
  },
  {
   "cell_type": "code",
   "execution_count": 1,
   "metadata": {},
   "outputs": [
    {
     "name": "stdout",
     "output_type": "stream",
     "text": [
      "zsh:1: command not found: pip\n",
      "pygame 2.0.1 (SDL 2.0.14, Python 3.8.5)\n",
      "Hello from the pygame community. https://www.pygame.org/contribute.html\n"
     ]
    }
   ],
   "source": [
    "# Не изменяйте эту ячейку и запустите её перед началом работы!\n",
    "!pip install pygame\n",
    "from src.game_common.game import start_game as start_game_common\n",
    "from src.game_advanced.game import start_game as start_game_advanced\n",
    "from src.test.simple_test import draw_test_map\n",
    "from src.test.simple_test import simple_test\n",
    "from src.game_common.game import start_game as start_game_common\n",
    "import math"
   ]
  },
  {
   "cell_type": "markdown",
   "metadata": {},
   "source": [
    "![1](./Image/1.png)"
   ]
  },
  {
   "cell_type": "markdown",
   "metadata": {},
   "source": [
    "В этом ноутбуке мы рассмотрим проблему нахождения кратчайшего пути на карте. Эта задача часто встречается в робототехнике, компьютерных играх, сервисах такси, доставки и т.п. \n",
    "\n",
    "В данном ноутбуке карта будет представлять из себя сетку, в которой одни клетки проходимы, а другие представляют собой препятствия. \n",
    "\n",
    "Робот находится в одной из проходимых клеток и может перемещаться вверх, вниз, влево и вправо (но только между проходимыми клетками, естественно). \n",
    "\n",
    "Стоимость каждого такого перемещения равна 1.\n",
    "\n",
    "\n",
    "Наша задача - по известной карте и начальной и целевой клетки найти путь наименьшей стоимости (один из путей)."
   ]
  },
  {
   "cell_type": "markdown",
   "metadata": {},
   "source": [
    "Базовым алгоритмом поиска кратчайшего пути является алгоритм Дийкстры. Суть алгоритма проста — обходить вершины в порядке возрастания расстояния от начальной вершины. Для этого мы храним для каждой вершины метку `g` — минимальное известное расстояние от начальной вершины до этой (изначально для стартовой вершины оно равно `0`, а для всех остальных `infty`).\n",
    " На каждом шаге мы рассматриваем вершину с минимальным g среди нерассмотренных (Понятно, что на первой итерации выбрана будет стартовая вершина). Нетрудно доказать, что при неотрицательных весах при рассмотрении `g` этой вершины равно истинному значению минимального расстояния.  Далее, на текущей итерации, из рассматриваемой вершины производятся релаксации: мы пытаемся улучшить значение `g` для всех соседей этой вершины, то есть\n",
    " \n",
    "`neighbour.g = min(neighbour.g, self.g + dist(self, neighbour))`\n",
    "\n",
    "В искусственном интеллекте, процесс пересчета (релаксации) `g`-значений соседних вершин называется ''раскрытием''."
   ]
  },
  {
   "cell_type": "markdown",
   "metadata": {},
   "source": [
    "![2](./Image/dijkstra.gif)"
   ]
  },
  {
   "cell_type": "markdown",
   "metadata": {},
   "source": [
    "В нашем случае мы решаем задачу поиска кратчайшего пути до одной конкретной вершины, значит во время рассмотрения этой самой вершины алгоритм можно и нужно остановить. Помимо этого в нашей ситуации есть ряд упрощений: граф клетчатый, соседи - это несколько смежных клеток, а веса рёбер равны единице. Само собой, алгоритм Дийктры будет корректно работать и на таком графе тоже."
   ]
  },
  {
   "cell_type": "markdown",
   "metadata": {},
   "source": [
    "Однако алгоритм Дийкстры имеет большой минус: если мы ищем кратчайший путь от начальной вершины до вполне определенной целевой, то мы рассмотрим ВСЕ вершины, расстояние до которых меньше чем до целевой, даже если они в противоположной от неё стороне. Представьте, что мы хотим долететь из Новосибирска до Владивостока, но смотрим при этом пересадку в Казани, которая находится в противоположной стороне. Это же не разумно! \n",
    "\n",
    "Чтобы это исправить, рассмотрим `h` — эвристическую функцию вершины. Это оценка расстояния от неё до конечной. И тогда логично брать вершину не с минимальным `g`, а минимальным значением `f = g + h`. Таким образом мы фокусируемся на нужном нам направлении, а не идем во все стороны.\n",
    "\n",
    "Алгоритм поиска, раскрывающий вершины в порядке возрастания `f`-значений называется A* (A-star, А-звёздочка). Вот наглядный пример его работы:"
   ]
  },
  {
   "cell_type": "markdown",
   "metadata": {},
   "source": [
    "![3](./Image/astar.gif)"
   ]
  },
  {
   "cell_type": "markdown",
   "metadata": {},
   "source": [
    "На практике (если у нас хорошая эвристика) алгоритм A* зачастую рассматривает (раскрывает) гораздо меньше вершин, чем Дийкстра.\n",
    "\n",
    "Давайте реализуем A*!\n",
    "\n",
    "PS: И Дийкстру заодно, т.к. они отличаются только тем, что у Дийкстры эвристическая функция - это просто 0."
   ]
  },
  {
   "cell_type": "markdown",
   "metadata": {},
   "source": [
    "Введём класс `Node`, описывающий вершину. У него есть следующие поля:\n",
    "- `i`, `j` - координаты вершины;\n",
    "- `g`;\n",
    "- `f = g + h`;\n",
    "- parent - вершина, из которой мы пришли в данную. По этому полю мы сможем восстановить путь."
   ]
  },
  {
   "cell_type": "code",
   "execution_count": 2,
   "metadata": {},
   "outputs": [],
   "source": [
    "class Node:\n",
    "    def __init__(self, i, j, g = math.inf, h = 0, parent = None):\n",
    "        self.i = i\n",
    "        self.j = j\n",
    "        self.g = g\n",
    "        self.h = h\n",
    "        self.f = self.g + h       \n",
    "        self.parent = parent\n",
    "    \n",
    "    def __eq__(self, other):\n",
    "        return (self.i == other.i) and (self.j == other.j)\n",
    "    \n",
    "    def __hash__(self):\n",
    "        return 31 + 7 * (hash(self.i) + 7 * hash(self.j))\n",
    "    \n",
    "    def __str__(self):\n",
    "        return 'i: {0}, j: {1}, g: {2}, F: {3}, parent: {4}'.format(self.i, self.j, self.g, self.f, self.parent)"
   ]
  },
  {
   "cell_type": "markdown",
   "metadata": {},
   "source": [
    "Теперь определим класс `Grid`, описывающий граф, в котором робот будет искать путь. У него есть следующие поля:\n",
    "- `height`, `width` - высота и ширина, то есть размер поля по оси X и Y соответсвенно;\n",
    "- `cells` - двумерная матрица, описывающая клетки поля. Если значение `cells[i][j]` равно `1`, то это значит, что через клетку в `i`-м ряду и `j`-й столбце можно пройти. Если же оно равно `0`, то клетка непроходима."
   ]
  },
  {
   "cell_type": "code",
   "execution_count": 3,
   "metadata": {},
   "outputs": [],
   "source": [
    "class Grid:\n",
    "\n",
    "    def __init__(self, height=0, width=0, cells=[]):\n",
    "        self.height = height\n",
    "        self.width = width\n",
    "        self.cells = cells\n",
    "\n",
    "    # Проверка, не выходит ли клетка (i, j) за границы поля   \n",
    "    def in_bounds(self, i, j):\n",
    "        return (0 <= j < self.width) and (0 <= i < self.height)\n",
    "    \n",
    "    # Проверка, можно ли пройти через клетку (i, j) \n",
    "    def traversable(self, i, j):\n",
    "        return not self.cells[i][j]\n",
    "    \n",
    "    # Список соседей клетки (i, j) в виде list-а из tuple-ов вида (n_i, n_j)\n",
    "    def get_neighbors(self, i, j):\n",
    "        delta = [(-1, 0), (0, 1), (1, 0), (0, -1)]\n",
    "        \n",
    "        neighbors = []\n",
    "        \n",
    "        for dx, dy in delta:\n",
    "            x, y = dx + i, dy + j\n",
    "            if self.in_bounds(x, y) and self.traversable(x, y):\n",
    "                neighbors.append((x, y))\n",
    "        return neighbors"
   ]
  },
  {
   "cell_type": "markdown",
   "metadata": {},
   "source": [
    "### Реализация Open и Closed"
   ]
  },
  {
   "cell_type": "markdown",
   "metadata": {},
   "source": [
    "В нашей реализации мы будем использовать два класса — `Open` и `Closed`. `Open` содержит нерассмотренные вершины, а `Closed` — уже рассмотренные. "
   ]
  },
  {
   "cell_type": "markdown",
   "metadata": {},
   "source": [
    "У `Open` есть следующие методы: \n",
    " - `is_empty` - является ли множеством пустым\n",
    " - `add_node` - добавить вершину (или обновлять значение её `g`, если она уже была добавлена)\n",
    " - `get_best_node` - извлечь вершину с минимальным `f`."
   ]
  },
  {
   "cell_type": "code",
   "execution_count": 4,
   "metadata": {},
   "outputs": [],
   "source": [
    "class Open:\n",
    "    def __init__(self):\n",
    "        self.elements = []\n",
    "    \n",
    "    def __iter__(self):\n",
    "        return iter(self.elements)\n",
    "\n",
    "    def __len__(self):\n",
    "        return len(self.elements)\n",
    "\n",
    "    def is_empty(self):\n",
    "        if len(self.elements) != 0:\n",
    "            return False\n",
    "        return True\n",
    "    \n",
    "    def add_node(self, item : Node):\n",
    "        for elem in self.elements:\n",
    "            if elem == item:\n",
    "                if elem.g > item.g:\n",
    "                    elem.g = item.g\n",
    "                    elem.f = item.f\n",
    "                    elem.parent = item.parent\n",
    "                return\n",
    "        self.elements.append(item)\n",
    "        return\n",
    "\n",
    "    def get_best_node(self):\n",
    "        best_f = math.inf\n",
    "        best_h = math.inf\n",
    "        best_coord = 0\n",
    "        for i in range(len(self.elements)):\n",
    "            if (self.elements[i].f < best_f):\n",
    "                best_coord = i\n",
    "                best_f = self.elements[i].f\n",
    "            elif (self.elements[i].f == best_f and self.elements[i].h < best_h):\n",
    "                best_coord = i\n",
    "                best_f = self.elements[i].f\n",
    "                best_h = self.elements[i].h\n",
    "                \n",
    "        best = self.elements.pop(best_coord)\n",
    "        return best\n",
    "    "
   ]
  },
  {
   "cell_type": "markdown",
   "metadata": {},
   "source": [
    "Приечание: приведённая реализация `Open` понятная и простая, но не вполне эффективная, т.к. она хранит вершины в списке (list). На практике, если нам нужно быстро доставать элемент с минимальным значением, используется куча (heap). После того, как у вас всё заработает, можете переделать Open (Совет: сделайте для этого отдельный класс OpenHeap и пишите всё в нем, так вам будет проще отлаживаться)."
   ]
  },
  {
   "cell_type": "markdown",
   "metadata": {},
   "source": [
    "У `Closed` есть следующие методы: \n",
    " - `add_node` - добавить вершину\n",
    " - `was_expanded` - проверка на наличие вершины."
   ]
  },
  {
   "cell_type": "code",
   "execution_count": 5,
   "metadata": {},
   "outputs": [],
   "source": [
    "class Closed:\n",
    "    \n",
    "    def __init__(self):\n",
    "        self.elements = set()\n",
    "\n",
    "    def __iter__(self):\n",
    "        return iter(self.elements)\n",
    "    \n",
    "    def __len__(self):\n",
    "        return len(self.elements)\n",
    "    \n",
    "    def add_node(self, item : Node):\n",
    "        if item in self.elements:\n",
    "            return\n",
    "        self.elements.add(item)\n",
    "\n",
    "    def was_expanded(self, item : Node):\n",
    "        return item in self.elements"
   ]
  },
  {
   "cell_type": "markdown",
   "metadata": {},
   "source": [
    "## Алгоритм A*"
   ]
  },
  {
   "cell_type": "markdown",
   "metadata": {},
   "source": [
    "В качестве эвристической функции будем использовать Манхэтэнское расстояние, — это сумма расстояний между клетками по вертикали и горизонтали."
   ]
  },
  {
   "cell_type": "code",
   "execution_count": 6,
   "metadata": {},
   "outputs": [],
   "source": [
    "def manhattan_metric(i1, j1, i2, j2):\n",
    "    res = 0\n",
    "    res = abs(i1 - i2) + abs(j1 - j2)\n",
    "    return res"
   ]
  },
  {
   "cell_type": "markdown",
   "metadata": {},
   "source": [
    "Добавим также нулевую эвристику. Если наш алгоритм поиска будет использовать её, то он превратится просто в Дийкстру."
   ]
  },
  {
   "cell_type": "code",
   "execution_count": 7,
   "metadata": {},
   "outputs": [],
   "source": [
    "def null_heuristic(i1, j1, i2, j2):\n",
    "    return 0"
   ]
  },
  {
   "cell_type": "markdown",
   "metadata": {},
   "source": [
    "Теперь перейдём непосредственно к алгоритму планирования (поиска). Он принимает на вход следующие аргументы:\n",
    " - `grid` - Grid, по которому будет ходить робот;\n",
    " - `start`, `end` - два tuple с координатами стартовой и конечной клетки;\n",
    " - `open_set`, `closed_set` - пустые Open и Closed;\n",
    " - `heuristic` - эвристическая функция;\n",
    " \n",
    " А возвращать он должен два значения:\n",
    " - `found_flag` - True если мы нашли путь и False инчаче;\n",
    " - `last_node` - Node, соответсвующий последней вершине (он нужен, чтобы восстановить путь);"
   ]
  },
  {
   "cell_type": "code",
   "execution_count": 8,
   "metadata": {},
   "outputs": [],
   "source": [
    "def a_star(grid, start, end, open_set, closed_set, heuristic):\n",
    "\n",
    "    found_flag = False\n",
    "    last_node = None\n",
    "    \n",
    "    start_node = Node(start[0], start[1], 0, heuristic(start[0], start[1], end[0], end[1]))\n",
    "    end_node = Node(end[0], end[1])\n",
    "    \n",
    "    open_set.add_node(start_node)\n",
    "    \n",
    "    while len(open_set) > 0:\n",
    "        v = open_set.get_best_node()\n",
    "        closed_set.add_node(v)\n",
    "        \n",
    "        if v == end_node:\n",
    "            found_flag = True\n",
    "            last_node = v\n",
    "            break\n",
    "            \n",
    "        for coords in grid.get_neighbors(v.i, v.j):\n",
    "            to = Node(coords[0], coords[1], v.g + 1, heuristic(coords[0], coords[1], end[0], end[1]), v)\n",
    "            if closed_set.was_expanded(to):\n",
    "                continue\n",
    "            open_set.add_node(to)\n",
    "    \n",
    "    return found_flag, last_node"
   ]
  },
  {
   "cell_type": "markdown",
   "metadata": {},
   "source": [
    "### Тестирование"
   ]
  },
  {
   "cell_type": "markdown",
   "metadata": {},
   "source": [
    "Протестируем наш алогритм. Посмотрим на карту для тестирования:"
   ]
  },
  {
   "cell_type": "code",
   "execution_count": 9,
   "metadata": {},
   "outputs": [
    {
     "data": {
      "image/png": "[encoded data removed]",
      "text/plain": [
       "<Figure size 900x600 with 1 Axes>"
      ]
     },
     "metadata": {
      "needs_background": "light"
     },
     "output_type": "display_data"
    }
   ],
   "source": [
    "draw_test_map()"
   ]
  },
  {
   "cell_type": "markdown",
   "metadata": {},
   "source": [
    "Сначала запустим на ней Дийкстру. Для этого нужно передать нулевую эвристику:"
   ]
  },
  {
   "cell_type": "code",
   "execution_count": 10,
   "metadata": {},
   "outputs": [
    {
     "name": "stdout",
     "output_type": "stream",
     "text": [
      "Path found! Length: 57. Nodes created: 375. Number of steps: 367. Correct: True\n"
     ]
    },
    {
     "data": {
      "image/png": "[encoded data removed]",
      "text/plain": [
       "<Figure size 900x600 with 1 Axes>"
      ]
     },
     "metadata": {
      "needs_background": "light"
     },
     "output_type": "display_data"
    }
   ],
   "source": [
    "from src.test.simple_test import simple_test\n",
    "simple_test(a_star, Open, Closed, Grid, null_heuristic)"
   ]
  },
  {
   "cell_type": "markdown",
   "metadata": {},
   "source": [
    "Теперь запустим A*:"
   ]
  },
  {
   "cell_type": "code",
   "execution_count": 11,
   "metadata": {},
   "outputs": [
    {
     "name": "stdout",
     "output_type": "stream",
     "text": [
      "Path found! Length: 57. Nodes created: 211. Number of steps: 166. Correct: True\n"
     ]
    },
    {
     "data": {
      "image/png": "[encoded data removed]",
      "text/plain": [
       "<Figure size 900x600 with 1 Axes>"
      ]
     },
     "metadata": {
      "needs_background": "light"
     },
     "output_type": "display_data"
    }
   ],
   "source": [
    "from src.test.simple_test import simple_test\n",
    "simple_test(a_star, Open, Closed, Grid, manhattan_metric)"
   ]
  },
  {
   "cell_type": "markdown",
   "metadata": {},
   "source": [
    "Если было напечатано \"Path found!\" и \"Correct: True\", то тест пройден. Ура!"
   ]
  },
  {
   "cell_type": "markdown",
   "metadata": {},
   "source": [
    "Как видно из результатов, A* рассмотрел ощутимо меньшее число вершин, а значит использовал меньше памяти закончил работу за меньшее время!"
   ]
  },
  {
   "cell_type": "markdown",
   "metadata": {},
   "source": [
    "### Игра"
   ]
  },
  {
   "cell_type": "markdown",
   "metadata": {},
   "source": [
    "Теперь вы можете запустить игру. Ваша цель - обозначить начальную клетку (первым кликом), конечную клетку (вторым кликом), а также нарисовать препятствия. После запуска (пробелом) робот будет искать кратчайший путь с помощью написанного вами алгоритма. "
   ]
  },
  {
   "cell_type": "markdown",
   "metadata": {},
   "source": [
    "Управление:\n",
    "* [Left Click] - закрасить клетку. \n",
    "* * Оранжевая клетка - стартовая позиция.\n",
    "* * Голубая клетка - конечная позиция.\n",
    "* * Черная клетка - стена (через стены проходить нельзя)\n",
    "* [Right Click] - стереть клетку.\n",
    "* [Space] - запустить A* из стартовой клетки в конечную.\n",
    "* [R] - очистить поле"
   ]
  },
  {
   "cell_type": "code",
   "execution_count": 12,
   "metadata": {},
   "outputs": [],
   "source": [
    "from src.game_common.game import start_game as start_game_common"
   ]
  },
  {
   "cell_type": "code",
   "execution_count": 13,
   "metadata": {},
   "outputs": [],
   "source": [
    "start_game_common(a_star, Open, Closed, manhattan_metric, width=600, height=600)"
   ]
  },
  {
   "cell_type": "markdown",
   "metadata": {},
   "source": [
    "### Игра++"
   ]
  },
  {
   "cell_type": "markdown",
   "metadata": {},
   "source": [
    "Хотите чего-то более интересное и более приближенное к реальной жизни?     \n",
    "Что делать, если у робота будет ограниченая область видимости? \n",
    "\n",
    "Ответ - перемещаться и перепланировать (т.е. перезапускать наш A*) каждый раз, когда робот сделает шаг."
   ]
  },
  {
   "cell_type": "markdown",
   "metadata": {},
   "source": [
    "Управление:\n",
    "* [Left Click] - закрасить клетку. \n",
    "* * Оранжевая клетка - стартовая позиция.\n",
    "* * Фиолетовая клетка - конечная позиция.\n",
    "* * Черная клетка - стена (через стены проходить нельзя)\n",
    "* [Right Click] - стереть клетку.\n",
    "* [Space] - запустить A* из стартовой клетки в конечную.\n",
    "* [R] - очистить поле\n",
    "\n",
    "Параметр [vision] - радиус обзора робота"
   ]
  },
  {
   "cell_type": "code",
   "execution_count": 14,
   "metadata": {},
   "outputs": [],
   "source": [
    "from src.game_advanced.game import start_game as start_game_advanced"
   ]
  },
  {
   "cell_type": "code",
   "execution_count": 15,
   "metadata": {},
   "outputs": [],
   "source": [
    "start_game_advanced(a_star, Open, Closed, manhattan_metric, vision=5, width=600, height=600)"
   ]
  }
 ],
 "metadata": {
  "kernelspec": {
   "display_name": "Python 3",
   "language": "python",
   "name": "python3"
  },
  "language_info": {
   "codemirror_mode": {
    "name": "ipython",
    "version": 3
   },
   "file_extension": ".py",
   "mimetype": "text/x-python",
   "name": "python",
   "nbconvert_exporter": "python",
   "pygments_lexer": "ipython3",
   "version": "3.8.5"
  }
 },
 "nbformat": 4,
 "nbformat_minor": 4
}