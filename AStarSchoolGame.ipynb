{
 "cells": [
  {
   "cell_type": "markdown",
   "metadata": {},
   "source": [
    "# Kак роботы планируют траекторию движения"
   ]
  },
  {
   "cell_type": "code",
   "execution_count": 16,
   "metadata": {},
   "outputs": [
    {
     "name": "stdout",
     "output_type": "stream",
     "text": [
      "Requirement already satisfied: pygame in c:\\users\\admin\\anaconda3\\envs\\pyg\\lib\\site-packages (1.9.2a0)\n"
     ]
    },
    {
     "name": "stderr",
     "output_type": "stream",
     "text": [
      "You are using pip version 10.0.1, however version 20.3.4 is available.\n",
      "You should consider upgrading via the 'python -m pip install --upgrade pip' command.\n"
     ]
    }
   ],
   "source": [
    "!pip install pygame"
   ]
  },
  {
   "cell_type": "markdown",
   "metadata": {},
   "source": [
    "![1](./Image/1.png)"
   ]
  },
  {
   "cell_type": "markdown",
   "metadata": {},
   "source": [
    "В этом ноутбуке мы рассмотрим проблему нахождения кратчайшего пути на карте. Эта задача используется в робототехнике, компьютерных играх и сервисах такси, доставки и т.п. В данном ноутбуке карта будет представлять из себя сетку(grid), в которой одни клетки проходимы, а другие представляют собой препятствия. Существуют разные спрособы определять соседей клетки, например, соседями могут являться только смежные клетки с данной или можно еще разрешать ходить по диагонали при некоторых ограничениях. В этом задании будем предполагать, что мы можем ходить только по смежным клеткам: вверх, вниз, влево и вправо.\n",
    "\n",
    "Один из алгоритмов нахождения кратчайшего пути - A* (A star). Процесс нахождения пути выглядит так:"
   ]
  },
  {
   "cell_type": "markdown",
   "metadata": {},
   "source": [
    "![2](./Image/a_star_pathfinding.gif)"
   ]
  },
  {
   "cell_type": "markdown",
   "metadata": {},
   "source": [
    "Ваша задача - реализовать алгоритм A*. Запускайте клетки ноутбука по очереди, дополняя пропуски своим кодом. Удачи!"
   ]
  },
  {
   "cell_type": "markdown",
   "metadata": {},
   "source": [
    "После написания всего кода вы сможете запустить его как приложение и посмотреть на его работу вживую, поэтому не пугайтесь большому количеству кода, весь код понимать не надо, а в нужных местах будут пояснения :)"
   ]
  },
  {
   "cell_type": "code",
   "execution_count": 2,
   "metadata": {},
   "outputs": [
    {
     "name": "stdout",
     "output_type": "stream",
     "text": [
      "pygame 2.0.1 (SDL 2.0.14, Python 3.8.5)\n",
      "Hello from the pygame community. https://www.pygame.org/contribute.html\n"
     ]
    }
   ],
   "source": [
    "import pygame\n",
    "import math\n",
    "\n",
    "\"\"\"\n",
    "Это просто набор констант для приложения (цвета, число клеток в окне и прочее)\n",
    "\"\"\"\n",
    "WIDTH = 1000#800\n",
    "pygame.init()\n",
    "WIN = pygame.display.set_mode((WIDTH,WIDTH))\n",
    "pygame.display.set_caption(\"A* Path finding Algorithm\")\n",
    "RED = (255,0,0)\n",
    "GREEN = (0,255,0)\n",
    "BLUE = (0,0,255)\n",
    "YELLOW = (255,255,0)\n",
    "WHITE = (255,255,255)\n",
    "BLACK = (0,0,0)\n",
    "PURPLE = (128,0,128)\n",
    "ORANGE = (255,165,0)\n",
    "GREY = (128,128,128)\n",
    "TURQUOISE = (64,224,208)\n",
    "\n",
    "# EPS может понадобиться, чтобы проверять равенство двух вещественных чисел с точностью до какого-то знака после запятой\n",
    "EPS = 1e-8"
   ]
  },
  {
   "cell_type": "markdown",
   "metadata": {},
   "source": [
    "Класс Spot представляет собой клетку на игровом поле, где\n",
    "\n",
    "- row, col - ряд и колонка клетки (координаты). Они вам понадобятся.\n",
    "- x, y - это пиксельные координаты, каждая клетка имеет ширину width, и это левый верхний угол клетки, он просто нужен, чтобы нарисовать клетку с помощью библиотеки pygame. Это вам не нужно.\n",
    "- color - цвет клетки, в коде ниже написано, что означает каждый из цветов. Вам понадобится правильно раскрашивать клетки в вашем алгоритме.\n",
    "- neighbors - 4 соседа Spot'a (тоже представители класса Spot)\n",
    "- width - ширина клетки на поле (в пикселях)\n",
    "- total_rows - общее число рядов И колонок (поле квадратное)"
   ]
  },
  {
   "cell_type": "code",
   "execution_count": 3,
   "metadata": {},
   "outputs": [],
   "source": [
    "#Spot represent individual points in the grid\n",
    "class Spot:\n",
    "    def __init__(self, row, col, width, total_rows):\n",
    "        self.row = row\n",
    "        self.col = col\n",
    "        self.x = row * width\n",
    "        self.y = col * width\n",
    "        self.color = WHITE\n",
    "        self.neighbors = []\n",
    "        self.width = width\n",
    "        self.total_rows = total_rows\n",
    "        \n",
    "    def __eq__(self, other):\n",
    "        if not isinstance(other, Spot):\n",
    "            return False\n",
    "        return (self.row == other.row) and (self.col == other.col)\n",
    "\n",
    "    def get_pos(self):\n",
    "        return self.row, self.col\n",
    "    \n",
    "    # клетка(вершина) лежит в CLOSED\n",
    "    def is_closed(self):\n",
    "        return self.color == RED\n",
    "    \n",
    "    # клетка(вершина) лежит в OPEN\n",
    "    def is_open(self):\n",
    "        return self.color == GREEN\n",
    "\n",
    "    # клетка - препятствие\n",
    "    def is_barrier(self):\n",
    "        return self.color == BLACK\n",
    "\n",
    "    # стартовая клетка\n",
    "    def is__start(self):\n",
    "        return self.color == ORANGE\n",
    "\n",
    "    # целевая клетка\n",
    "    def is_end(self):\n",
    "        return self.color == PURPLE\n",
    "\n",
    "    # обычная клетка\n",
    "    def reset(self):\n",
    "        self.color = WHITE\n",
    "\n",
    "    # перекрасить клетку, если она попала в CLOSED\n",
    "    def make_closed(self):\n",
    "        self.color = RED\n",
    "\n",
    "    def make_start(self):\n",
    "        self.color = ORANGE\n",
    "\n",
    "    # перекрасить клетку, если она попала в OPEN\n",
    "    def make_open(self):\n",
    "        self.color = GREEN\n",
    "\n",
    "    def make_barrier(self):\n",
    "        self.color = BLACK\n",
    "    \n",
    "    def make_end(self):\n",
    "        self.color = TURQUOISE\n",
    "    \n",
    "    # клетка найденного пути\n",
    "    def make_path(self):\n",
    "        self.color = PURPLE\n",
    "    \n",
    "    def draw(self, win):\n",
    "        pygame.draw.rect(win, self.color, (self.x, self.y, self.width, self.width))\n",
    "\n",
    "    def update_neighbors(self, grid):\n",
    "        self.neighbors=[]\n",
    "        if self.row + 1 < self.total_rows and not grid[self.row + 1][self.col].is_barrier():\n",
    "            self.neighbors.append(grid[self.row + 1][self.col])\n",
    "    \n",
    "        if self.row > 0 and not grid[self.row - 1][self.col].is_barrier():\n",
    "            self.neighbors.append(grid[self.row - 1][self.col])\n",
    "\n",
    "        if self.col < self.total_rows - 1 and not grid[self.row][self.col + 1].is_barrier():\n",
    "            self.neighbors.append(grid[self.row][self.col + 1])\n",
    "\n",
    "        if self.col > 0 and not grid[self.row][self.col - 1].is_barrier():\n",
    "            self.neighbors.append(grid[self.row][self.col - 1])"
   ]
  },
  {
   "cell_type": "markdown",
   "metadata": {},
   "source": [
    "Класс Spot будет представлять клетки карты, но для алгоритма нам нужен набор вершин Node со своими полями:\n",
    "\n",
    "- i, j - координаты вершины (сопоставляются с Spot с соответствующим row, col)\n",
    "- g - g-value\n",
    "- F - F-value\n",
    "- parent - вершина, из которой мы пришли в данную. По этому полю мы сможем восстановить путь."
   ]
  },
  {
   "cell_type": "code",
   "execution_count": 17,
   "metadata": {},
   "outputs": [],
   "source": [
    "class Node:\n",
    "    def __init__(self, i, j, g = math.inf, h = math.inf, F = None, parent = None):\n",
    "        self.i = i\n",
    "        self.j = j\n",
    "        self.g = g\n",
    "        if F is None:\n",
    "            self.F = self.g + h\n",
    "        else:\n",
    "            self.F = F        \n",
    "        self.parent = parent\n",
    "    \n",
    "    def __eq__(self, other):\n",
    "        return (self.i == other.i) and (self.j == other.j)\n",
    "    \n",
    "    def __gt__(self, other):\n",
    "        return self.F - EPS > other.F\n",
    "    \n",
    "    def __hash__(self):\n",
    "        return 31 + 7 * (hash(self.i) + 7 * hash(self.j))\n",
    "    \n",
    "    def __str__(self):\n",
    "        return 'i: {0}, j: {1}, g: {2}, F: {3}, parent: {4}'.format(self.i, self.j, self.g, self.F, self.parent)"
   ]
  },
  {
   "cell_type": "markdown",
   "metadata": {},
   "source": [
    "В A\\*, в отличие от алгоритма Дейкстры, мы используем метрики, чтобы отсеять заведомо неправильные вершины. Например, если мы хотим долететь из Новосибирска до Владивостока, то зачем лететь с пересадкой в Москве, ведь она находится в противоположной стороне. Хорошая метрика для A\\* как раз поможет избежать лишних действий."
   ]
  },
  {
   "cell_type": "code",
   "execution_count": 5,
   "metadata": {},
   "outputs": [],
   "source": [
    "def ManhattanMetric(x1, y1, x2, y2):\n",
    "    return abs(x1 - x2) + abs(y1 - y2)"
   ]
  },
  {
   "cell_type": "code",
   "execution_count": 6,
   "metadata": {},
   "outputs": [],
   "source": [
    "# Функция для воостановления пути\n",
    "def reconstruct_path(currentNode, grid, draw):\n",
    "    while currentNode.parent is not None:\n",
    "        currentNode = currentNode.parent\n",
    "        currentSpot = grid[currentNode.i][currentNode.j]\n",
    "        currentSpot.make_path()\n",
    "        # отрисовываем вершины итеративно, чтобы путь строился динамически\n",
    "        draw()\n",
    "    currentSpot = grid[currentNode.i][currentNode.j]\n",
    "    currentSpot.make_start()\n",
    "    draw()"
   ]
  },
  {
   "cell_type": "markdown",
   "metadata": {},
   "source": [
    "### Реализация OPEN и CLOSED\n",
    "\n",
    "Эффективная реализация OPEN и CLOSED очень важна для любого алгоритма поиска. Ниже вы можете увидеть базовую реализацию этих классов, но с ними алгоритм поиска будет работать на больших картах очень долго (минуты и часы), поэтому вам нужно написать свою версию, которая будет выполнять операции с этими множествами более эффективно."
   ]
  },
  {
   "cell_type": "code",
   "execution_count": 7,
   "metadata": {},
   "outputs": [],
   "source": [
    "class OpenBase:\n",
    "    def __init__(self):\n",
    "        pass\n",
    "    \n",
    "    def __len__(self):\n",
    "        pass\n",
    "    \n",
    "    def __iter__(self):\n",
    "        pass\n",
    "\n",
    "    # isEmpty должна сообщать о том, пустое множество или нет\n",
    "    def isEmpty(self):\n",
    "        pass\n",
    "\n",
    "    # AddNode это метод добавляющий или обновляющий вершину в OPEN\n",
    "    # Не забудьте обработать следующие случаи:\n",
    "    # - вершина уже в OPEN но новое g-value лучше;\n",
    "    # - вершина уже в OPEN но новое g-value хуже;\n",
    "    # - вершина не в OPEN.\n",
    "    def AddNode(self, item: Node):\n",
    "        pass\n",
    "\n",
    "    # GetBestNode это метод, возвращающий лучшую вершину из OPEN (с наименьшим f-value) и удаляющий ее из OPEN\n",
    "    def GetBestNode(self):\n",
    "        pass"
   ]
  },
  {
   "cell_type": "code",
   "execution_count": 8,
   "metadata": {},
   "outputs": [],
   "source": [
    "class OpenList(OpenBase):\n",
    "    def __init__(self):\n",
    "        self.elements = []\n",
    "    \n",
    "    def __iter__(self):\n",
    "        return iter(self.elements)\n",
    "\n",
    "    def __len__(self):\n",
    "        return len(self.elements)\n",
    "\n",
    "    def isEmpty(self):\n",
    "        if len(self.elements) != 0:\n",
    "            return False\n",
    "        return True\n",
    "\n",
    "    def GetBestNode(self):\n",
    "        bestF = math.inf\n",
    "        bestCoord = 0\n",
    "        for i in range(len(self.elements)):\n",
    "            if (self.elements[i].F < bestF) or (abs(self.elements[i].F - bestF) < EPS):\n",
    "                bestCoord = i\n",
    "                bestF = self.elements[i].F\n",
    "                \n",
    "        best = self.elements.pop(bestCoord)\n",
    "        return best\n",
    "    \n",
    "\n",
    "    def AddNode(self, item):\n",
    "        for coord in range(len(self.elements)):\n",
    "            if self.elements[coord].i == item.i and self.elements[coord].j == item.j:\n",
    "                if (self.elements[coord].g > item.g) or (abs(self.elements[coord].g - item.g) < EPS):\n",
    "                    self.elements[coord].F = item.F\n",
    "                    self.elements[coord].g = item.g\n",
    "                    self.elements[coord].parent = item.parent\n",
    "                    return\n",
    "                else:\n",
    "                    return\n",
    "        self.elements.append(item)\n",
    "        return"
   ]
  },
  {
   "cell_type": "markdown",
   "metadata": {},
   "source": [
    "От OPEN требуется выполнять следующие операции: добавлять вершину (обновлять ее значение) и быстро доставать ноду с минимальным F-value. Какие структуры данных могут эффективно выполнять эти операции?"
   ]
  },
  {
   "cell_type": "code",
   "execution_count": 9,
   "metadata": {},
   "outputs": [],
   "source": [
    "import heapq\n",
    "\n",
    "class YourOpen(OpenBase):\n",
    "    def __init__(self):\n",
    "        self.elements = []\n",
    "        self.in_open = set()\n",
    "    \n",
    "    def __iter__(self):\n",
    "        return iter(sorted(list([n for n in self.elements if n in self.in_open])))\n",
    "\n",
    "    def __len__(self):\n",
    "        return len(self.in_open)\n",
    "\n",
    "    def isEmpty(self):\n",
    "        return len(self.elements) == 0\n",
    "    \n",
    "    def GetBestNode(self):\n",
    "        min_node = heapq.heappop(self.elements)\n",
    "        self.in_open.remove(min_node)\n",
    "        while len(self.elements) != 0 and self.elements[0] not in self.in_open:\n",
    "            heapq.heappop(self.elements)\n",
    "        return min_node\n",
    "\n",
    "    def AddNode(self, item: Node):\n",
    "        self.in_open.add(item)\n",
    "        heapq.heappush(self.elements, item)"
   ]
  },
  {
   "cell_type": "code",
   "execution_count": 10,
   "metadata": {},
   "outputs": [],
   "source": [
    "class ClosedBase:\n",
    "\n",
    "    def __init__(self):\n",
    "        pass\n",
    "\n",
    "    def __iter__(self):\n",
    "        pass\n",
    "    \n",
    "    def __len__(self):\n",
    "        pass\n",
    "    \n",
    "    \n",
    "    def AddNode(self, item: Node, *args):\n",
    "        pass\n",
    "\n",
    "    def WasExpanded(self, item: Node, *args):\n",
    "        pass"
   ]
  },
  {
   "cell_type": "code",
   "execution_count": 11,
   "metadata": {},
   "outputs": [],
   "source": [
    "class ClosedList (ClosedBase):\n",
    "    \n",
    "    def __init__(self):\n",
    "        self.elements = []\n",
    "\n",
    "    def __iter__(self):\n",
    "        return iter(self.elements)\n",
    "    \n",
    "    def __len__(self):\n",
    "        return len(self.elements)\n",
    "    \n",
    "    # AddNode is the method that inserts the node to CLOSED\n",
    "    def AddNode(self, item, *args):\n",
    "        self.elements.append(item)\n",
    "\n",
    "    # WasExpanded is the method that checks if a node has been expanded\n",
    "    def WasExpanded(self, item, *args):\n",
    "        return item in self.elements"
   ]
  },
  {
   "cell_type": "markdown",
   "metadata": {},
   "source": [
    "От CLOSED требуется выполнять операции добавления и узнавать, есть ли элемент в множестве."
   ]
  },
  {
   "cell_type": "code",
   "execution_count": 12,
   "metadata": {},
   "outputs": [],
   "source": [
    "class YourClosed (ClosedBase):\n",
    "    \n",
    "    def __init__(self):\n",
    "        self.elements = set()\n",
    "\n",
    "    def __iter__(self):\n",
    "        return iter(self.elements)\n",
    "    \n",
    "    def __len__(self):\n",
    "        return len(self.elements)\n",
    "    \n",
    "    # AddNode is the method that inserts the node to CLOSED\n",
    "    def AddNode(self, item : Node, *args):\n",
    "        self.elements.add(item)\n",
    "\n",
    "    # WasExpanded is the method that checks if a node has been expanded\n",
    "    def WasExpanded(self, item : Node, *args):\n",
    "        return item in self.elements"
   ]
  },
  {
   "cell_type": "markdown",
   "metadata": {},
   "source": [
    "# A* Algorithm Implementation"
   ]
  },
  {
   "cell_type": "code",
   "execution_count": 13,
   "metadata": {},
   "outputs": [],
   "source": [
    "#A* Algorithm Implementation\n",
    "def algorithm(draw, grid, start, end, h=ManhattanMetric):\n",
    "    open_set = OpenList()\n",
    "    closed_set = ClosedList()\n",
    "    startNode = Node(start.row, start.col, 0, h(start.row, start.col, end.row, end.col))\n",
    "    open_set.AddNode(startNode)\n",
    "\n",
    "    while not open_set.isEmpty():\n",
    "        for event in pygame.event.get():\n",
    "            if event.type == pygame.QUIT:\n",
    "                pygame.quit()\n",
    "\n",
    "        currentNode = open_set.GetBestNode()\n",
    "        currentSpot = grid[currentNode.i][currentNode.j]\n",
    "        \n",
    "        closed_set.AddNode(currentNode)\n",
    "        if currentSpot != start:\n",
    "            currentSpot.make_closed()\n",
    "        if currentSpot == end:\n",
    "            reconstruct_path(currentNode, grid, draw)\n",
    "            end.make_end()\n",
    "            return True\n",
    "\n",
    "        g_val = currentNode.g\n",
    "        for neighbor in currentSpot.neighbors:\n",
    "            if not closed_set.WasExpanded(Node(neighbor.row, neighbor.col)):\n",
    "                newNode = Node(neighbor.row, neighbor.col, g_val + 1, h(neighbor.row, neighbor.col, end.row, end.col), None, currentNode)\n",
    "                open_set.AddNode(newNode)\n",
    "                neighbor.make_open()\n",
    "                \n",
    "            draw()\n",
    "            \n",
    "    return False"
   ]
  },
  {
   "cell_type": "markdown",
   "metadata": {},
   "source": [
    "Это сама программа, тут ничего не надо трогать!"
   ]
  },
  {
   "cell_type": "code",
   "execution_count": 15,
   "metadata": {},
   "outputs": [
    {
     "name": "stdout",
     "output_type": "stream",
     "text": [
      "Here:True\n"
     ]
    },
    {
     "ename": "error",
     "evalue": "display Surface quit",
     "output_type": "error",
     "traceback": [
      "\u001b[1;31m---------------------------------------------------------------------------\u001b[0m",
      "\u001b[1;31merror\u001b[0m                                     Traceback (most recent call last)",
      "\u001b[1;32m<ipython-input-15-3d547e9eb244>\u001b[0m in \u001b[0;36m<module>\u001b[1;34m\u001b[0m\n\u001b[0;32m    107\u001b[0m     \u001b[0mpygame\u001b[0m\u001b[1;33m.\u001b[0m\u001b[0mquit\u001b[0m\u001b[1;33m(\u001b[0m\u001b[1;33m)\u001b[0m\u001b[1;33m\u001b[0m\u001b[1;33m\u001b[0m\u001b[0m\n\u001b[0;32m    108\u001b[0m \u001b[1;33m\u001b[0m\u001b[0m\n\u001b[1;32m--> 109\u001b[1;33m \u001b[0mmain\u001b[0m\u001b[1;33m(\u001b[0m\u001b[0mWIN\u001b[0m\u001b[1;33m,\u001b[0m\u001b[0mWIDTH\u001b[0m\u001b[1;33m)\u001b[0m\u001b[1;33m\u001b[0m\u001b[1;33m\u001b[0m\u001b[0m\n\u001b[0m",
      "\u001b[1;32m<ipython-input-15-3d547e9eb244>\u001b[0m in \u001b[0;36mmain\u001b[1;34m(win, width)\u001b[0m\n\u001b[0;32m     58\u001b[0m     \u001b[0mprint\u001b[0m\u001b[1;33m(\u001b[0m\u001b[1;34m\"Here:{}\"\u001b[0m\u001b[1;33m.\u001b[0m\u001b[0mformat\u001b[0m\u001b[1;33m(\u001b[0m\u001b[0mrun\u001b[0m  \u001b[1;33m)\u001b[0m\u001b[1;33m)\u001b[0m\u001b[1;33m\u001b[0m\u001b[1;33m\u001b[0m\u001b[0m\n\u001b[0;32m     59\u001b[0m     \u001b[1;32mwhile\u001b[0m\u001b[1;33m(\u001b[0m\u001b[0mrun\u001b[0m\u001b[1;33m)\u001b[0m\u001b[1;33m:\u001b[0m\u001b[1;33m\u001b[0m\u001b[1;33m\u001b[0m\u001b[0m\n\u001b[1;32m---> 60\u001b[1;33m         \u001b[0mdraw\u001b[0m\u001b[1;33m(\u001b[0m\u001b[0mwin\u001b[0m\u001b[1;33m,\u001b[0m\u001b[0mgrid\u001b[0m\u001b[1;33m,\u001b[0m\u001b[0mROWS\u001b[0m\u001b[1;33m,\u001b[0m\u001b[0mWIDTH\u001b[0m\u001b[1;33m)\u001b[0m\u001b[1;33m\u001b[0m\u001b[1;33m\u001b[0m\u001b[0m\n\u001b[0m\u001b[0;32m     61\u001b[0m         \u001b[1;32mfor\u001b[0m \u001b[0mevent\u001b[0m \u001b[1;32min\u001b[0m \u001b[0mpygame\u001b[0m\u001b[1;33m.\u001b[0m\u001b[0mevent\u001b[0m\u001b[1;33m.\u001b[0m\u001b[0mget\u001b[0m\u001b[1;33m(\u001b[0m\u001b[1;33m)\u001b[0m\u001b[1;33m:\u001b[0m\u001b[1;33m\u001b[0m\u001b[1;33m\u001b[0m\u001b[0m\n\u001b[0;32m     62\u001b[0m             \u001b[1;32mif\u001b[0m \u001b[0mevent\u001b[0m\u001b[1;33m.\u001b[0m\u001b[0mtype\u001b[0m \u001b[1;33m==\u001b[0m \u001b[0mpygame\u001b[0m\u001b[1;33m.\u001b[0m\u001b[0mQUIT\u001b[0m\u001b[1;33m:\u001b[0m\u001b[1;33m\u001b[0m\u001b[1;33m\u001b[0m\u001b[0m\n",
      "\u001b[1;32m<ipython-input-15-3d547e9eb244>\u001b[0m in \u001b[0;36mdraw\u001b[1;34m(win, grid, rows, width)\u001b[0m\n\u001b[0;32m     31\u001b[0m \u001b[1;31m#Draws the screen and everything in it.\u001b[0m\u001b[1;33m\u001b[0m\u001b[1;33m\u001b[0m\u001b[1;33m\u001b[0m\u001b[0m\n\u001b[0;32m     32\u001b[0m \u001b[1;32mdef\u001b[0m \u001b[0mdraw\u001b[0m\u001b[1;33m(\u001b[0m\u001b[0mwin\u001b[0m\u001b[1;33m,\u001b[0m\u001b[0mgrid\u001b[0m\u001b[1;33m,\u001b[0m\u001b[0mrows\u001b[0m\u001b[1;33m,\u001b[0m\u001b[0mwidth\u001b[0m\u001b[1;33m)\u001b[0m\u001b[1;33m:\u001b[0m\u001b[1;33m\u001b[0m\u001b[1;33m\u001b[0m\u001b[0m\n\u001b[1;32m---> 33\u001b[1;33m     \u001b[0mwin\u001b[0m\u001b[1;33m.\u001b[0m\u001b[0mfill\u001b[0m\u001b[1;33m(\u001b[0m\u001b[0mWHITE\u001b[0m\u001b[1;33m)\u001b[0m\u001b[1;33m\u001b[0m\u001b[1;33m\u001b[0m\u001b[0m\n\u001b[0m\u001b[0;32m     34\u001b[0m     \u001b[1;32mfor\u001b[0m \u001b[0mrow\u001b[0m \u001b[1;32min\u001b[0m \u001b[0mgrid\u001b[0m\u001b[1;33m:\u001b[0m\u001b[1;33m\u001b[0m\u001b[1;33m\u001b[0m\u001b[0m\n\u001b[0;32m     35\u001b[0m         \u001b[1;32mfor\u001b[0m \u001b[0mspot\u001b[0m \u001b[1;32min\u001b[0m \u001b[0mrow\u001b[0m\u001b[1;33m:\u001b[0m\u001b[1;33m\u001b[0m\u001b[1;33m\u001b[0m\u001b[0m\n",
      "\u001b[1;31merror\u001b[0m: display Surface quit"
     ]
    }
   ],
   "source": [
    "#Implenents Grid\n",
    "def make_grid(rows,width):\n",
    "    grid=[]\n",
    "    gap=width//rows\n",
    "    for i in range(rows):\n",
    "        grid.append([])\n",
    "        for j in range(rows):\n",
    "            spot=Spot(i,j,gap,rows)\n",
    "            grid[i].append(spot)\n",
    "    return grid\n",
    "\n",
    "\n",
    "#Draws Text on the left-Hand corner\n",
    "def draw_text(Win,rows,width):\n",
    "    gap=width//rows\n",
    "    font = pygame.font.Font('freesansbold.ttf',20 )\n",
    "    text = font.render(\"A* Path Finding Visualizer\",True,WHITE,BLACK)\n",
    "    textRect=text.get_rect()\n",
    "    textRect.center=(rows//2+83-gap*2,rows//2)\n",
    "    Win.blit(text, textRect)\n",
    "\n",
    "#Draws Grid\n",
    "def draw_grid(win,rows,width):\n",
    "    gap=width//rows\n",
    "    for i in range(rows):\n",
    "        pygame.draw.line(win,GREY,(0,i*gap),(width,i*gap))\n",
    "    for j in range(rows):\n",
    "        pygame.draw.line(win,GREY,(j*gap,0),(j*gap,width))\n",
    "\n",
    "\n",
    "#Draws the screen and everything in it.\n",
    "def draw(win,grid,rows,width):\n",
    "    win.fill(WHITE)\n",
    "    for row in grid:\n",
    "        for spot in row:\n",
    "            spot.draw(win)\n",
    "    \n",
    "    draw_grid(win,rows,width)\n",
    "    draw_text(win,rows,width)\n",
    "    pygame.display.update()\n",
    "\n",
    "#To get position of the mouse click on the screen\n",
    "def get_clicked_pos(pos,rows,width):\n",
    "    gap=width//rows \n",
    "    y,x = pos\n",
    "    row=y//gap\n",
    "    col=x//gap\n",
    "    return row,col \n",
    "\n",
    "#Main function which executes everything thing\n",
    "def main(win,width):\n",
    "    ROWS = 50\n",
    "    grid = make_grid(ROWS,width)\n",
    "    start = None\n",
    "    end = None\n",
    "    run = True\n",
    "    started = False\n",
    "    print(\"Here:{}\".format(run  ))\n",
    "    while(run):\n",
    "        draw(win,grid,ROWS,WIDTH)\n",
    "        for event in pygame.event.get():\n",
    "            if event.type == pygame.QUIT:\n",
    "                run=False\n",
    "\n",
    "        \n",
    "            if pygame.mouse.get_pressed()[0]:#LEFT\n",
    "                pos = pygame.mouse.get_pos()\n",
    "                row, col = get_clicked_pos(pos, ROWS, width)\n",
    "                spot = grid[row][col]\n",
    "                if not start and spot != end:\n",
    "                    start = spot\n",
    "                    start.make_start() \n",
    "                elif not end and spot != start:\n",
    "                    end = spot\n",
    "                    end.make_end()\n",
    "                elif spot != end and spot != start:\n",
    "                    #print(\"making barrier\")\n",
    "                    spot.make_barrier()\n",
    "\n",
    "            elif pygame.mouse.get_pressed()[2]: # RIGHT\n",
    "                pos=pygame.mouse.get_pos()\n",
    "                row,col=get_clicked_pos(pos,ROWS,width)\n",
    "                spot=grid[row][col]\n",
    "                spot.reset()\n",
    "\n",
    "                if spot == start:\n",
    "                    start=None\n",
    "                \n",
    "                if spot == end:\n",
    "                    end=None\n",
    "                    \n",
    "            if event.type==pygame.KEYDOWN:\n",
    "                if event.key==pygame.K_SPACE and start and end:\n",
    "                    \n",
    "                    for row in grid:\n",
    "                        #print(\"row:{}\".format(len(row)))\n",
    "                        for spot in row:\n",
    "                            spot.update_neighbors(grid)\n",
    "                    algorithm(lambda:draw(win,grid,ROWS,width),grid,start,end)\n",
    "                     \n",
    "                if event.key == pygame.K_c:\n",
    "                    start = None\n",
    "                    end = None\n",
    "                    grid = make_grid(ROWS,width)\n",
    "                \n",
    "\n",
    "    pygame.quit()\n",
    "        \n",
    "main(WIN,WIDTH)"
   ]
  },
  {
   "cell_type": "code",
   "execution_count": null,
   "metadata": {},
   "outputs": [],
   "source": []
  }
 ],
 "metadata": {
  "kernelspec": {
   "display_name": "Python 3",
   "language": "python",
   "name": "python3"
  },
  "language_info": {
   "codemirror_mode": {
    "name": "ipython",
    "version": 3
   },
   "file_extension": ".py",
   "mimetype": "text/x-python",
   "name": "python",
   "nbconvert_exporter": "python",
   "pygments_lexer": "ipython3",
   "version": "3.8.5"
  }
 },
 "nbformat": 4,
 "nbformat_minor": 5
}
