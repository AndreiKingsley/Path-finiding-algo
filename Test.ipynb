{
 "cells": [
  {
   "cell_type": "code",
   "execution_count": null,
   "id": "searching-spine",
   "metadata": {},
   "outputs": [],
   "source": [
    "# Не изменяйте эту ячейку и запустите её перед началом работы!\n",
    "!pip install pygame\n",
    "!pip install heapdict\n",
    "import math"
   ]
  },
  {
   "cell_type": "code",
   "execution_count": null,
   "id": "random-drill",
   "metadata": {},
   "outputs": [],
   "source": [
    "from src.game_test.game import start_game"
   ]
  },
  {
   "cell_type": "code",
   "execution_count": null,
   "id": "above-investigator",
   "metadata": {},
   "outputs": [],
   "source": [
    "start_game()"
   ]
  }
 ],
 "metadata": {
  "kernelspec": {
   "display_name": "Python 3",
   "language": "python",
   "name": "python3"
  },
  "language_info": {
   "codemirror_mode": {
    "name": "ipython",
    "version": 3
   },
   "file_extension": ".py",
   "mimetype": "text/x-python",
   "name": "python",
   "nbconvert_exporter": "python",
   "pygments_lexer": "ipython3",
   "version": "3.8.5"
  }
 },
 "nbformat": 4,
 "nbformat_minor": 5
}
