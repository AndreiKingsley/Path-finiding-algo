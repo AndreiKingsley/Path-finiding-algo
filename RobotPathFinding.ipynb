{
 "cells": [
  {
   "cell_type": "markdown",
   "metadata": {},
   "source": [
    "# Kак роботы планируют траекторию движения"
   ]
  },
  {
   "cell_type": "code",
   "execution_count": 1,
   "metadata": {},
   "outputs": [
    {
     "name": "stdout",
     "output_type": "stream",
     "text": [
      "Requirement already satisfied: pygame in /opt/anaconda3/lib/python3.8/site-packages (2.0.1)\n",
      "Requirement already satisfied: heapdict in /opt/anaconda3/lib/python3.8/site-packages (1.0.1)\n"
     ]
    }
   ],
   "source": [
    "# Не изменяйте эту ячейку и запустите её перед началом работы!\n",
    "!pip install pygame\n",
    "!pip install heapdict\n",
    "import math"
   ]
  },
  {
   "cell_type": "markdown",
   "metadata": {},
   "source": [
    "![1](./Image/1.png)"
   ]
  },
  {
   "cell_type": "markdown",
   "metadata": {},
   "source": [
    "В этом ноутбуке мы рассмотрим проблему нахождения кратчайшего пути на карте. Эта задача используется в робототехнике, компьютерных играх и сервисах такси, доставки и т.п. В данном ноутбуке карта будет представлять из себя сетку, в которой одни клетки проходимы, а другие представляют собой препятствия. Существуют разные спрособы определять соседей клетки, например, соседями могут являться только смежные клетки с данной или можно еще разрешать ходить по диагонали при некоторых ограничениях. В этом задании будем предполагать, что мы можем ходить только по смежным клеткам: вверх, вниз, влево и вправо."
   ]
  },
  {
   "cell_type": "markdown",
   "metadata": {},
   "source": [
    "Базовым алгоритмом поиска кратчайшего пути является алгоритм Дийкстры. Суть алгоритма проста — обходить вершины в порядке возрастания расстояния от начальной вершины. Для этого мы храним для каждой вершины метку $g$ — минимальное известное расстояние от начальной вершины до этой (изначально для стартовой вершины оно равно 0, а для всех остальных $\\infty$).\n",
    " На каждом шаге мы рассматриваем вершину с минимальным g среди нерассмотренных (Понятно, что на первой итерации выбрана будет стартовая вершина). Нетрудно доказать, что при неотрицательных весах при рассмотрении $g$ этой вершины равно истинному значению минимального расстояния.  Далее, на текущей итерации, из рассматриваемой вершины производятся релаксации: мы пытаемся улучшить значение g для всех соседей этой вершины, то есть\n",
    " \n",
    "$$neighbour.g = min(neighbour.g,\\  self.g+dist(self, neighbour)).$$"
   ]
  },
  {
   "cell_type": "markdown",
   "metadata": {},
   "source": [
    "![2](./Image/dijkstra.gif)"
   ]
  },
  {
   "cell_type": "markdown",
   "metadata": {},
   "source": [
    "В нашем случае мы решаем задачу поиска кратчайшего пути до одной конкретной вершины, значит во время рассмотрения этой самой вершины алгоритм можно и нужно остановить. Помимо этого в нашей ситуации много упрощений, поскольку граф клетчатый, соседи - это несколько смежных клеток, а веса рёбер равны единице."
   ]
  },
  {
   "cell_type": "markdown",
   "metadata": {},
   "source": [
    "Однако алгоритм Дийкстры имеет большой минус: если мы ищем кратчайший путь от начальной вершины до конкретной, то мы рассмотрим ВСЕ вершины, расстояние до которых меньше чем до целевой, даже если они в противоположной от неё стороне. Например, если мы хотим долететь из Новосибирска до Владивостока, то зачем лететь с пересадкой в Москве, ведь она находится в противоположной стороне. Чтобы это исправить, рассмотрим $h$ — эвристическую функцию вершины. Это оценка расстояния от неё до конечной. И тогда логично брать вершину не с минимальным $g$, а минимальным значением $f = h + g$. Такой алогоритм называется A* (A-star, А-звёздочка). Вот наглядный пример его работы:"
   ]
  },
  {
   "cell_type": "code",
   "execution_count": 2,
   "metadata": {},
   "outputs": [],
   "source": [
    "# Может стоит добавить две гифки - сравнение дийкстры и a*?"
   ]
  },
  {
   "cell_type": "markdown",
   "metadata": {},
   "source": [
    "![3](./Image/astar.gif)"
   ]
  },
  {
   "cell_type": "markdown",
   "metadata": {},
   "source": [
    "Как видите, алгоритм не рассматривает многие вершины, которые алгоритм Дийсткры бы рассмотрел. Таким образом, хорошая метрика для A* как раз поможет избежать лишних действий"
   ]
  },
  {
   "cell_type": "markdown",
   "metadata": {},
   "source": [
    "Введём класс Node, описывающий вершину. У него есть следующие поля:\n",
    "- i, j - координаты вершины\n",
    "- g\n",
    "- f = g + h\n",
    "- parent - вершина, из которой мы пришли в данную. По этому полю мы сможем восстановить путь."
   ]
  },
  {
   "cell_type": "code",
   "execution_count": 3,
   "metadata": {},
   "outputs": [],
   "source": [
    "class Node:\n",
    "    def __init__(self, i, j, g = math.inf, h = math.inf, parent = None):\n",
    "        self.i = i\n",
    "        self.j = j\n",
    "        self.g = g\n",
    "        self.f = self.g + h       \n",
    "        self.parent = parent\n",
    "    \n",
    "    def __eq__(self, other):\n",
    "        return (self.i == other.i) and (self.j == other.j)\n",
    "    \n",
    "    def __gt__(self, other):\n",
    "        return self.f > other.f\n",
    "    \n",
    "    def __hash__(self):\n",
    "        return 31 + 7 * (hash(self.i) + 7 * hash(self.j))\n",
    "    \n",
    "    def __str__(self):\n",
    "        return 'i: {0}, j: {1}, g: {2}, F: {3}, parent: {4}'.format(self.i, self.j, self.g, self.f, self.parent)"
   ]
  },
  {
   "cell_type": "markdown",
   "metadata": {},
   "source": [
    "Теперь определим класс Grid, описывающий граф, в котором робот будет искать путь. У него есть следующие поля:\n",
    "- height, width - высота и ширина, то есть размер поля по оси X и Y соответсвенно;\n",
    "- cells - двумерная матрица, описывающая клетки поля. Если значение cells[i][j] равно 1, то это значит, что через клетку в i-м ряду и j-й столбце можно пройти. Если же оно равно 0, то клетка непроходима."
   ]
  },
  {
   "cell_type": "code",
   "execution_count": 4,
   "metadata": {},
   "outputs": [],
   "source": [
    "# TODO MAKE TASK\n",
    "class Grid:\n",
    "\n",
    "    def init(self, height, width, cells):\n",
    "        self.height = height\n",
    "        self.width = width\n",
    "        self.cells = cells\n",
    "\n",
    "    # Проверка, не выходит ли клетка (i, j) за границы поля   \n",
    "    def in_bounds(self, i, j):\n",
    "        return (0 <= j < self.width) and (0 <= i < self.height)\n",
    "    \n",
    "    # Проверка, можно ли пройти через клетку (i, j) \n",
    "    def traversable(self, i, j):\n",
    "        return not self.cells[i][j]\n",
    "    \n",
    "    # Список соседей клетки (i, j) в виде list-а из tuple-ов вида (n_i, n_j)\n",
    "    def get_neighbors(self, i, j):\n",
    "        neighbors = []\n",
    "        \n",
    "        # TODO! Реализуйте эту функцию!\n",
    "        # Робот может ходить только прямо, то есть по диагонали ходить нельзя.\n",
    "        # Не забывайте про границы и непроходимые клетки!\n",
    "        \n",
    "        neighbors = []\n",
    "        delta = [[0, 1], [1, 0], [0, -1], [-1, 0]]\n",
    "\n",
    "        for d in delta:\n",
    "            if self.in_bounds(i + d[0], j + d[1]) and self.traversable(i + d[0], j + d[1]):\n",
    "                neighbors.append((i + d[0], j + d[1]))\n",
    "      \n",
    "        return neighbors"
   ]
  },
  {
   "cell_type": "markdown",
   "metadata": {},
   "source": [
    "### Реализация Open и Closed"
   ]
  },
  {
   "cell_type": "markdown",
   "metadata": {},
   "source": [
    "В нашей реализации мы будем использовать два класса — Open и Closed. Open содержит нерассмотренные вершины, а Closed — уже рассмотренные. В качестве примера приведены реализации на List-е. Однако, такая реализация крайне не эффективная. Напишите свою реализацию, использующую  более эффективную структуру данных"
   ]
  },
  {
   "cell_type": "code",
   "execution_count": 5,
   "metadata": {},
   "outputs": [],
   "source": [
    "EPS = 1e-8\n",
    "class Open:\n",
    "    def __init__(self):\n",
    "        self.elements = []\n",
    "    \n",
    "    def __iter__(self):\n",
    "        return iter(self.elements)\n",
    "\n",
    "    def __len__(self):\n",
    "        return len(self.elements)\n",
    "\n",
    "    def is_empty(self):\n",
    "        if len(self.elements) != 0:\n",
    "            return False\n",
    "        return True\n",
    "\n",
    "    def get_best_node(self):\n",
    "        bestF = math.inf\n",
    "        bestCoord = 0\n",
    "        for i in range(len(self.elements)):\n",
    "            if (self.elements[i].f < bestF) or (abs(self.elements[i].f - bestF) < EPS):\n",
    "                bestCoord = i\n",
    "                bestF = self.elements[i].f\n",
    "                \n",
    "        best = self.elements.pop(bestCoord)\n",
    "        return best\n",
    "    \n",
    "\n",
    "    def add_node(self, item):\n",
    "        for coord in range(len(self.elements)):\n",
    "            if self.elements[coord].i == item.i and self.elements[coord].j == item.j:\n",
    "                if (self.elements[coord].g > item.g) or (abs(self.elements[coord].g - item.g) < EPS):\n",
    "                    self.elements[coord].f = item.f\n",
    "                    self.elements[coord].g = item.g\n",
    "                    self.elements[coord].parent = item.parent\n",
    "                    return\n",
    "                else:\n",
    "                    return\n",
    "        self.elements.append(item)\n",
    "        return"
   ]
  },
  {
   "cell_type": "markdown",
   "metadata": {},
   "source": [
    "Посмотрите на импелементацию Open выше и убедитесь, что вы всё понимаете. Как видите, от Open требуется выполнять следующие операции: добавлять вершину (или обновлять значение её g) и быстро доставать ноду с минимальным f-value. Подумайте, какая структура данных могут эффективно выполнять эти операции? (Подсказка: в стандартной библиотеке Python есть подходящая)"
   ]
  },
  {
   "cell_type": "code",
   "execution_count": 6,
   "metadata": {},
   "outputs": [],
   "source": [
    "class Closed:\n",
    "    \n",
    "    def __init__(self):\n",
    "        self.elements = set()\n",
    "\n",
    "    def __iter__(self):\n",
    "        return iter(self.elements)\n",
    "    \n",
    "    def __len__(self):\n",
    "        return len(self.elements)\n",
    "    \n",
    "    # AddNode is the method that inserts the node to CLOSED\n",
    "    def add_node(self, item : Node, *args):\n",
    "        self.elements.add(item)\n",
    "\n",
    "    # WasExpanded is the method that checks if a node has been expanded\n",
    "    def was_expanded(self, item : Node, *args):\n",
    "        return item in self.elements"
   ]
  },
  {
   "cell_type": "markdown",
   "metadata": {},
   "source": [
    "Как видно, от Closed требуется выполнять операции добавления и узнавать, есть ли элемент в множестве. Уверены, что вы знакомы с нужной струкурой данных."
   ]
  },
  {
   "cell_type": "markdown",
   "metadata": {},
   "source": [
    "## Алгоритм A*"
   ]
  },
  {
   "cell_type": "markdown",
   "metadata": {},
   "source": [
    "В качестве эвристической функции будем использовать Манхэтэнское расстояние — сумму расстояний по вертикали и горизонтали."
   ]
  },
  {
   "cell_type": "code",
   "execution_count": 7,
   "metadata": {},
   "outputs": [],
   "source": [
    "# TODO MAKE TASK\n",
    "def manhattan_metric(x1, y1, x2, y2):\n",
    "    return abs(x1 - x2) + abs(y1 - y2)"
   ]
  },
  {
   "cell_type": "markdown",
   "metadata": {},
   "source": [
    "А теперь вам предстоит реализовать используя сам алгоритм. \n",
    "\n",
    "Параметры `a_star`:\n",
    "- grid - Объект класса grid\n",
    "- start - координаты старта в формате (i, j)\n",
    "- end - координаты финиша в формате (i, j)\n",
    "- OPEN - класс OPEN\n",
    "- CLOSED - класс CLOSED\n",
    "- h - эвристическая функция, которая должна принимать 4 аргумента: x1, y1, x2, y2, и возвращать число"
   ]
  },
  {
   "cell_type": "code",
   "execution_count": 8,
   "metadata": {},
   "outputs": [],
   "source": [
    "# TODO MAKE TASK\n",
    "def a_star(grid, start, end, OPEN, CLOSED, h):\n",
    "    open_set = OPEN\n",
    "    closed_set = CLOSED\n",
    "    start_node = Node(start[0], start[1], 0, h(start[0], start[1], end[0], end[1]))\n",
    "    end_node = Node(end[0], end[1])\n",
    "    open_set.add_node(start_node)\n",
    "\n",
    "    found_flag = False\n",
    "    last_v = None\n",
    "    while not open_set.is_empty():\n",
    "        v = open_set.get_best_node()\n",
    "        closed_set.add_node(v)\n",
    "        if v == end_node:\n",
    "            found_flag = True\n",
    "            last_v = v\n",
    "            break\n",
    "\n",
    "        g_val = v.g\n",
    "        for to_i, to_j in grid.get_neighbors(v.i, v.j):\n",
    "            if not closed_set.was_expanded(Node(to_i, to_j)):\n",
    "                h_curr = h(to_i, to_j, end_node.i, end_node.j)\n",
    "                new_node = Node(to_i, to_j, g_val + 1, h_curr, parent=v)\n",
    "                open_set.add_node(new_node)\n",
    "    return found_flag, last_v, open_set, closed_set"
   ]
  },
  {
   "cell_type": "code",
   "execution_count": 9,
   "metadata": {},
   "outputs": [
    {
     "name": "stdout",
     "output_type": "stream",
     "text": [
      "pygame 2.0.1 (SDL 2.0.14, Python 3.8.5)\n",
      "Hello from the pygame community. https://www.pygame.org/contribute.html\n",
      "pygame-menu 4.0.2\n"
     ]
    }
   ],
   "source": [
    "from src.game_advanced.game import start_game as start_game_advanced\n",
    "from src.game_common.game import start_game as start_game_common"
   ]
  },
  {
   "cell_type": "markdown",
   "metadata": {},
   "source": [
    "Left click - закрасить клетку. Первая закрашенная клетка - начало. Вторая - конец. Дальше - стены. Right click - удалить клетки. R - очистить доску. Space - запустить A*"
   ]
  },
  {
   "cell_type": "code",
   "execution_count": null,
   "metadata": {},
   "outputs": [],
   "source": [
    "start_game_advanced(a_star, Open, Closed, manhattan_metric, vision=10)"
   ]
  },
  {
   "cell_type": "code",
   "execution_count": null,
   "metadata": {},
   "outputs": [],
   "source": [
    "# start_game_common(a_star, Open, Closed, manhattan_metric)"
   ]
  },
  {
   "cell_type": "code",
   "execution_count": null,
   "metadata": {},
   "outputs": [],
   "source": []
  }
 ],
 "metadata": {
  "kernelspec": {
   "display_name": "Python 3",
   "language": "python",
   "name": "python3"
  },
  "language_info": {
   "codemirror_mode": {
    "name": "ipython",
    "version": 3
   },
   "file_extension": ".py",
   "mimetype": "text/x-python",
   "name": "python",
   "nbconvert_exporter": "python",
   "pygments_lexer": "ipython3",
   "version": "3.8.5"
  }
 },
 "nbformat": 4,
 "nbformat_minor": 4
}
